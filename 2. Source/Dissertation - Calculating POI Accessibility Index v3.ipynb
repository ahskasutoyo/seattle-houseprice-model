{
 "cells": [
  {
   "cell_type": "markdown",
   "id": "64c0bf30",
   "metadata": {},
   "source": [
    "# Import Library"
   ]
  },
  {
   "cell_type": "code",
   "execution_count": 1,
   "id": "c1b9f9cf",
   "metadata": {},
   "outputs": [
    {
     "name": "stderr",
     "output_type": "stream",
     "text": [
      "C:\\Users\\ahska\\anaconda3\\Lib\\site-packages\\pandas\\core\\arrays\\masked.py:60: UserWarning: Pandas requires version '1.3.6' or newer of 'bottleneck' (version '1.3.5' currently installed).\n",
      "  from pandas.core import (\n"
     ]
    }
   ],
   "source": [
    "import pandas as pd\n",
    "import numpy as np\n",
    "from math import radians, cos, sin, asin, sqrt"
   ]
  },
  {
   "cell_type": "markdown",
   "id": "12dbf2be",
   "metadata": {},
   "source": [
    "# Upload File"
   ]
  },
  {
   "cell_type": "code",
   "execution_count": 2,
   "id": "1be9622b",
   "metadata": {},
   "outputs": [
    {
     "name": "stderr",
     "output_type": "stream",
     "text": [
      "C:\\Users\\ahska\\AppData\\Local\\Temp\\ipykernel_31428\\3962044794.py:3: DtypeWarning: Columns (3,9,10,11,12,15) have mixed types. Specify dtype option on import or set low_memory=False.\n",
      "  poi_data = pd.read_csv('C:/Users/ahska/Documents/Ahska/UCL/3 - Final Project (Dissertation)/Dissertation 2/POI Data/poi_database_final_cleaned.csv')\n"
     ]
    }
   ],
   "source": [
    "# Load data\n",
    "redfin_data = pd.read_csv('C:/Users/ahska/Documents/Ahska/UCL/3 - Final Project (Dissertation)/Dissertation 2/Main Data/Redfin Dataset (Final 2)/redfin_seattle_dataset_house.csv')\n",
    "poi_data = pd.read_csv('C:/Users/ahska/Documents/Ahska/UCL/3 - Final Project (Dissertation)/Dissertation 2/POI Data/poi_database_final_cleaned.csv')"
   ]
  },
  {
   "cell_type": "markdown",
   "id": "f89f3a41",
   "metadata": {},
   "source": [
    "# Haversine Formula"
   ]
  },
  {
   "cell_type": "code",
   "execution_count": 3,
   "id": "aa4fd993",
   "metadata": {},
   "outputs": [],
   "source": [
    "import pandas as pd\n",
    "from math import radians, cos, sin, asin, sqrt\n",
    "\n",
    "def haversine(lon1, lat1, lon2, lat2):\n",
    "    \"\"\"\n",
    "    Calculate the great circle distance in kilometers between two points \n",
    "    on the earth (specified in decimal degrees)\n",
    "    \"\"\"\n",
    "    # Convert decimal degrees to radians\n",
    "    lon1, lat1, lon2, lat2 = map(radians, [lon1, lat1, lon2, lat2])\n",
    "\n",
    "    # Haversine formula\n",
    "    dlon = lon2 - lon1\n",
    "    dlat = lat2 - lat1\n",
    "    a = sin(dlat/2)**2 + cos(lat1) * cos(lat2) * sin(dlon/2)**2\n",
    "    c = 2 * asin(sqrt(a))\n",
    "    r = 6371  # Radius of Earth in kilometers\n",
    "    return c * r"
   ]
  },
  {
   "cell_type": "code",
   "execution_count": 4,
   "id": "81698332",
   "metadata": {},
   "outputs": [
    {
     "data": {
      "text/plain": [
       "0.507023869550569"
      ]
     },
     "execution_count": 4,
     "metadata": {},
     "output_type": "execute_result"
    }
   ],
   "source": [
    "haversine(-122.34784, 47.745233, -122.3451336, 47.7494139)"
   ]
  },
  {
   "cell_type": "markdown",
   "id": "7096cc8c",
   "metadata": {},
   "source": [
    "# Density Formula"
   ]
  },
  {
   "cell_type": "code",
   "execution_count": 5,
   "id": "b9cc2e8e",
   "metadata": {},
   "outputs": [],
   "source": [
    "def preliminary_filter(lat, lon, D=1.5):\n",
    "    \"\"\"Create a bounding box to pre-filter POIs within approximate range.\"\"\"\n",
    "    delta_lat = D / 111  # Roughly 1.5 km in latitude\n",
    "    delta_lon = D / (111 * cos(radians(lat)))  # Adjust longitude delta by cosine of latitude\n",
    "    return (poi_data['latitude'].between(lat - delta_lat, lat + delta_lat) &\n",
    "            poi_data['longitude'].between(lon - delta_lon, lon + delta_lon))\n",
    "\n",
    "def accessibility_measure(property_row, index, total, D=1.5):\n",
    "    \"\"\"Calculate the accessibility measure for each POI type based on linear decay function.\"\"\"\n",
    "    lat, lon = property_row['lat'], property_row['long']\n",
    "    accessibility_scores = {}\n",
    "    nearby_pois = poi_data[preliminary_filter(lat, lon, D)]\n",
    "    for poi_type in poi_types:\n",
    "        type_pois = nearby_pois[nearby_pois['sub_2_primarytype'].str.contains(poi_type)]\n",
    "        score = 0\n",
    "        for _, poi in type_pois.iterrows():\n",
    "            poi_lat, poi_lon = poi['latitude'], poi['longitude']\n",
    "            distance = haversine(lon, lat, poi_lon, poi_lat)\n",
    "            if distance < D:\n",
    "                score += (1 - distance / D)  # Apply decay function\n",
    "        accessibility_scores[f\"{poi_type}_accessibility\"] = score\n",
    "    \n",
    "    # Progress reporting\n",
    "    if index % (total // 10) == 0:\n",
    "        print(f\"Processing... {index / total * 100:.0f}% completed\")\n",
    "    return pd.Series(accessibility_scores)"
   ]
  },
  {
   "cell_type": "code",
   "execution_count": 6,
   "id": "c5557349",
   "metadata": {},
   "outputs": [],
   "source": [
    "# # Apply the function across all properties\n",
    "# redfin_data[poi_types] = redfin_data.apply(calculate_poi_density, axis=1)\n",
    "\n",
    "# # Save the results or display them\n",
    "# print(redfin_data.head())"
   ]
  },
  {
   "cell_type": "markdown",
   "id": "da7d9b98",
   "metadata": {},
   "source": [
    "# Defining Important POI Types"
   ]
  },
  {
   "cell_type": "code",
   "execution_count": 7,
   "id": "eb663c5f",
   "metadata": {},
   "outputs": [],
   "source": [
    "# POI types of interest\n",
    "poi_types = [\n",
    "    'gas_station', 'parking',\n",
    "    'airport', 'bus_station', 'ferry_terminal', 'light_rail_station', 'train_station', 'transit_station', 'transportation_others',\n",
    "    'library', 'preschool', 'school', 'university',\n",
    "    'amusement_center', 'community_center', 'entertainment',\n",
    "    'park',\n",
    "    'bar', 'cafe_and_bakery', 'food_others', 'restaurant',\n",
    "    'health_store', 'hospital',\n",
    "    'places_of_worship',\n",
    "    'safety',\n",
    "    'stores_essentials', 'stores_others'\n",
    "]\n"
   ]
  },
  {
   "cell_type": "markdown",
   "id": "a593f6f5",
   "metadata": {},
   "source": [
    "# Running the Formula"
   ]
  },
  {
   "cell_type": "code",
   "execution_count": 8,
   "id": "054ad72f",
   "metadata": {},
   "outputs": [
    {
     "name": "stdout",
     "output_type": "stream",
     "text": [
      "Processing... 0% completed\n",
      "Processing... 10% completed\n",
      "Processing... 20% completed\n",
      "Processing... 30% completed\n",
      "Processing... 40% completed\n",
      "Processing... 50% completed\n",
      "Processing... 60% completed\n",
      "Processing... 70% completed\n",
      "Processing... 80% completed\n",
      "Processing... 90% completed\n",
      "Processing... 100% completed\n"
     ]
    }
   ],
   "source": [
    "# Calculate accessibility measure for each property\n",
    "total_rows = len(redfin_data)\n",
    "redfin_data = redfin_data.join(redfin_data.apply(lambda row: accessibility_measure(row, row.name, total_rows, D=1.5), axis=1))\n"
   ]
  },
  {
   "cell_type": "code",
   "execution_count": 9,
   "id": "82ae5099",
   "metadata": {},
   "outputs": [],
   "source": [
    "# Save the updated DataFrame to a new CSV file\n",
    "redfin_data.to_csv('updated_redfin_data_with_accessibility_scores_v3.csv', index=False)"
   ]
  },
  {
   "cell_type": "code",
   "execution_count": 10,
   "id": "7d3f0f64",
   "metadata": {},
   "outputs": [
    {
     "name": "stdout",
     "output_type": "stream",
     "text": [
      "Processing complete. Head of the updated DataFrame:\n",
      "     SALE TYPE        SOLD DATE              PROPERTY TYPE           ADDRESS  \\\n",
      "0    PAST SALE  November-3-2023  Single Family Residential    443 11th Ave W   \n",
      "1    PAST SALE     June-30-2023  Single Family Residential  2817 88th Ave NE   \n",
      "2    PAST SALE     July-21-2023  Single Family Residential  1008 88th Ave NE   \n",
      "3    PAST SALE  January-27-2023  Single Family Residential   1520 90th Pl NE   \n",
      "4  MLS Listing              NaN  Single Family Residential   8830 NE 28th St   \n",
      "\n",
      "          CITY STATE OR PROVINCE  ZIP OR POSTAL CODE  \\\n",
      "0     Kirkland                WA               98003   \n",
      "1  Hunts Point                WA               98004   \n",
      "2     Bellevue                WA               98004   \n",
      "3   Clyde Hill                WA               98004   \n",
      "4   Clyde Hill                WA               98004   \n",
      "\n",
      "                            NEIGHBORHOOD     PRICE  BEDS  ...  \\\n",
      "0                            Federal Way   2700000     2  ...   \n",
      "1  Bellevue (Downtown and West Bellevue)   1998000     4  ...   \n",
      "2  Bellevue (Downtown and West Bellevue)   5498000     4  ...   \n",
      "3  Bellevue (Downtown and West Bellevue)  10500000     5  ...   \n",
      "4  Bellevue (Downtown and West Bellevue)   8688000     5  ...   \n",
      "\n",
      "   bar_accessibility cafe_and_bakery_accessibility  food_others_accessibility  \\\n",
      "0           1.595694                      3.051197                   2.473366   \n",
      "1           0.000000                      0.923546                   0.000000   \n",
      "2           0.124929                      0.891291                   0.511809   \n",
      "3           0.002887                      0.340939                   0.292031   \n",
      "4           0.000000                      0.972960                   0.000000   \n",
      "\n",
      "   restaurant_accessibility  health_store_accessibility  \\\n",
      "0                 10.947243                    0.162567   \n",
      "1                  0.000000                    0.000000   \n",
      "2                  0.670230                    2.309658   \n",
      "3                  0.215876                    1.700763   \n",
      "4                  0.000000                    0.000000   \n",
      "\n",
      "   hospital_accessibility  places_of_worship_accessibility  \\\n",
      "0                0.274124                         1.633359   \n",
      "1                0.000000                         0.000000   \n",
      "2                0.712440                         2.162928   \n",
      "3                0.573254                         2.479231   \n",
      "4                0.000000                         0.008462   \n",
      "\n",
      "   safety_accessibility stores_essentials_accessibility  \\\n",
      "0              0.994180                        2.169050   \n",
      "1              0.648050                        0.797466   \n",
      "2              0.195609                        1.295898   \n",
      "3              0.792525                        0.825058   \n",
      "4              0.844531                        0.712074   \n",
      "\n",
      "  stores_others_accessibility  \n",
      "0                    9.973473  \n",
      "1                    0.763508  \n",
      "2                    4.220848  \n",
      "3                    2.314377  \n",
      "4                    0.889961  \n",
      "\n",
      "[5 rows x 55 columns]\n"
     ]
    }
   ],
   "source": [
    "# Display some of the updated DataFrame to check results\n",
    "print(\"Processing complete. Head of the updated DataFrame:\")\n",
    "print(redfin_data.head())"
   ]
  },
  {
   "cell_type": "code",
   "execution_count": 11,
   "id": "48aa40ba",
   "metadata": {},
   "outputs": [
    {
     "name": "stdout",
     "output_type": "stream",
     "text": [
      "Average Accessibility Measures Sorted:\n",
      "restaurant_accessibility               26.027815\n",
      "park_accessibility                     25.174492\n",
      "stores_others_accessibility            23.638285\n",
      "bus_station_accessibility              21.232271\n",
      "parking_accessibility                  13.715487\n",
      "transit_station_accessibility          13.200188\n",
      "cafe_and_bakery_accessibility           9.039253\n",
      "school_accessibility                    8.688018\n",
      "food_others_accessibility               5.808909\n",
      "bar_accessibility                       5.151770\n",
      "places_of_worship_accessibility         5.111753\n",
      "stores_essentials_accessibility         4.854828\n",
      "health_store_accessibility              3.625721\n",
      "entertainment_accessibility             2.384405\n",
      "preschool_accessibility                 1.836418\n",
      "university_accessibility                1.767358\n",
      "hospital_accessibility                  1.742096\n",
      "library_accessibility                   1.519190\n",
      "gas_station_accessibility               1.193679\n",
      "community_center_accessibility          0.621233\n",
      "safety_accessibility                    0.477210\n",
      "light_rail_station_accessibility        0.344330\n",
      "amusement_center_accessibility          0.134378\n",
      "airport_accessibility                   0.062136\n",
      "transportation_others_accessibility     0.024652\n",
      "train_station_accessibility             0.022631\n",
      "ferry_terminal_accessibility            0.005389\n",
      "dtype: float64\n"
     ]
    }
   ],
   "source": [
    "# Step 1: Identify all columns that represent accessibility measures\n",
    "accessibility_columns = [col for col in redfin_data.columns if '_accessibility' in col]\n",
    "\n",
    "# Step 2: Compute the average accessibility measure for each POI type\n",
    "average_accessibility = redfin_data[accessibility_columns].mean()\n",
    "\n",
    "# Step 3: Sort the averages in descending order\n",
    "sorted_accessibility = average_accessibility.sort_values(ascending=False)\n",
    "\n",
    "# Display the sorted averages\n",
    "print(\"Average Accessibility Measures Sorted:\")\n",
    "print(sorted_accessibility)"
   ]
  },
  {
   "cell_type": "code",
   "execution_count": null,
   "id": "30b49977",
   "metadata": {},
   "outputs": [],
   "source": []
  }
 ],
 "metadata": {
  "kernelspec": {
   "display_name": "Python 3 (ipykernel)",
   "language": "python",
   "name": "python3"
  },
  "language_info": {
   "codemirror_mode": {
    "name": "ipython",
    "version": 3
   },
   "file_extension": ".py",
   "mimetype": "text/x-python",
   "name": "python",
   "nbconvert_exporter": "python",
   "pygments_lexer": "ipython3",
   "version": "3.11.4"
  }
 },
 "nbformat": 4,
 "nbformat_minor": 5
}
